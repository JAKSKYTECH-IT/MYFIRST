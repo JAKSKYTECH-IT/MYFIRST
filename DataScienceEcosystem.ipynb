{
 "cells": [
  {
   "cell_type": "markdown",
   "id": "abaa9a64-e175-470d-853c-74fa77468840",
   "metadata": {},
   "source": [
    "# Data Science Tools and Ecosystem"
   ]
  },
  {
   "cell_type": "markdown",
   "id": "92751d9a-cdb8-4afc-bfac-fd79fb8f5470",
   "metadata": {
    "tags": []
   },
   "source": [
    "In this notebook, Data Science Tools and Ecosystem are summarized "
   ]
  },
  {
   "cell_type": "markdown",
   "id": "0ac2ed04-4d57-4c49-b83a-0b91f4ca1a44",
   "metadata": {},
   "source": [
    "__Objectives:__\n",
    "\n",
    " . Create some Code and Markdown cells in Jupyter Notebook\n",
    " . Create a Table \n",
    " . List popular languages used by Data Scientists\n",
    " . List some libraries used by Data Scientists "
   ]
  },
  {
   "cell_type": "markdown",
   "id": "24be8af2-3f3f-4bc0-9007-2a27a49fe944",
   "metadata": {},
   "source": [
    "Some of the popular languages that data Scientists use are:\n",
    "1. Python\n",
    "2. R \n",
    "3. SQL "
   ]
  },
  {
   "cell_type": "markdown",
   "id": "b549b12d-9ca1-4d4d-baf1-f583d60c44cf",
   "metadata": {},
   "source": [
    "Some of the commonly used libraries uses by Data Scientists include:\n",
    "\n",
    "1. Numpy\n",
    "2. Pandas\n",
    "3. Matplotlib\n"
   ]
  },
  {
   "cell_type": "markdown",
   "id": "6397dcfc-7d0e-48d7-a3e0-bafe3abf4f94",
   "metadata": {
    "tags": []
   },
   "source": [
    "| Data Science Tools|\n",
    "|-------------------|\n",
    "| Jupyter Notebook  |\n",
    "| R Studio          |\n",
    "| Visual Studio Code|"
   ]
  },
  {
   "cell_type": "markdown",
   "id": "c31c4ebc-ef83-4551-8d8c-44082a770857",
   "metadata": {},
   "source": [
    "### Below are a few examples of evaluating arithmetic expressions in Python."
   ]
  },
  {
   "cell_type": "code",
   "execution_count": 11,
   "id": "1450cae3-8ad2-4a3d-9c92-11c9882a62f6",
   "metadata": {},
   "outputs": [
    {
     "name": "stdout",
     "output_type": "stream",
     "text": [
      "17\n"
     ]
    }
   ],
   "source": [
    "# This is a simple arithmetic expression to mutiply then add integers .\n",
    "a = (3*4)+5\n",
    "print(a)"
   ]
  },
  {
   "cell_type": "code",
   "execution_count": 12,
   "id": "4700785c-9260-4b47-8228-4530333ba496",
   "metadata": {
    "tags": []
   },
   "outputs": [
    {
     "data": {
      "text/plain": [
       "3.3333333333333335"
      ]
     },
     "execution_count": 12,
     "metadata": {},
     "output_type": "execute_result"
    }
   ],
   "source": [
    "# This will convert 200 minutes to hours by diving by 60\n",
    "minutes = 200\n",
    "# if an hour is equal to 60 minutes then we will divide 200 by 60\n",
    "hour = minutes/60\n",
    "hour\n"
   ]
  },
  {
   "cell_type": "markdown",
   "id": "de8e5379-963f-4f82-9540-cef5285cd6e8",
   "metadata": {},
   "source": [
    "## Author \n",
    "\n",
    "Amani Jacques Konan "
   ]
  }
 ],
 "metadata": {
  "kernelspec": {
   "display_name": "Python",
   "language": "python",
   "name": "conda-env-python-py"
  },
  "language_info": {
   "codemirror_mode": {
    "name": "ipython",
    "version": 3
   },
   "file_extension": ".py",
   "mimetype": "text/x-python",
   "name": "python",
   "nbconvert_exporter": "python",
   "pygments_lexer": "ipython3",
   "version": "3.7.12"
  }
 },
 "nbformat": 4,
 "nbformat_minor": 5
}
