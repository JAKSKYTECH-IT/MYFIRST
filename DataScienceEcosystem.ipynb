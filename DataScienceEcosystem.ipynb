{
  "metadata": {
    "kernelspec": {
      "name": "python",
      "display_name": "Python (Pyodide)",
      "language": "python"
    },
    "language_info": {
      "codemirror_mode": {
        "name": "python",
        "version": 3
      },
      "file_extension": ".py",
      "mimetype": "text/x-python",
      "name": "python",
      "nbconvert_exporter": "python",
      "pygments_lexer": "ipython3",
      "version": "3.8"
    }
  },
  "nbformat_minor": 4,
  "nbformat": 4,
  "cells": [
    {
      "cell_type": "markdown",
      "source": "# Data Science Tools and Ecosysten",
      "metadata": {}
    },
    {
      "cell_type": "markdown",
      "source": "# Overview of Data Science Tools and Ecosystem\nIn this notebook, Data Science Tools and Ecosystems are summarized.",
      "metadata": {}
    },
    {
      "cell_type": "markdown",
      "source": "**Objectives:**\n # In This Exercise we will learn :\n **How to use the Jupyter Notebook** \n **We will switch between Code & Markedwon cells**\n **Create a table**\n **We will use some arithmetic expressions**\n **convert min to hrs\n **We list popular languages for data science such as:**\n **We list Libraries used by Data Scientists**\n",
      "metadata": {}
    },
    {
      "cell_type": "markdown",
      "source": "# Some of the popular languages that Data Scientists use are:\n\n1. Python\n2. R\nJ. Julia\n4. SQL\n5- Java",
      "metadata": {}
    },
    {
      "cell_type": "markdown",
      "source": "# Some of the commonly used libraries used by Data scientists include:\n\n1. Numpy\n2. Pandas\n3. Matplotlib\n4. TensorFlow\n5. Scikit-learn",
      "metadata": {}
    },
    {
      "cell_type": "markdown",
      "source": "| Data Science Tools| \n|-------------------|\n| Jupyter Notebook  |               \n| RStudio           |\n| Visual Studio Code|",
      "metadata": {}
    },
    {
      "cell_type": "markdown",
      "source": "### Some Arithmetic expressions\nBelow are a few examples of evaluating arithmetic expressions in Python.\n# Addition\n\na = 4 \nb = 3\nprint(a + b)\n\n# Subtractin\n\nx = 0\ny = 2\nprint(x - Y)\n\n# we do have also Multiplicatin(*), Division(/), Exponentiation(**), Modulus(%)\n",
      "metadata": {}
    },
    {
      "cell_type": "code",
      "source": "# This is a simple arithmetic expression to Multiply and Add integers.\nz = (3*4)+5\nprint(z) ",
      "metadata": {
        "trusted": true
      },
      "outputs": [
        {
          "name": "stdout",
          "text": "17\n",
          "output_type": "stream"
        }
      ],
      "execution_count": 1
    },
    {
      "cell_type": "code",
      "source": "# This will convert 200 minutes to hours by diving by 60\nminutes = 200\nhours = minutes/60\nhours",
      "metadata": {
        "trusted": true
      },
      "outputs": [
        {
          "execution_count": 3,
          "output_type": "execute_result",
          "data": {
            "text/plain": "3.3333333333333335"
          },
          "metadata": {}
        }
      ],
      "execution_count": 3
    },
    {
      "cell_type": "markdown",
      "source": "## Author\nAmani Konan ",
      "metadata": {}
    }
  ]
}