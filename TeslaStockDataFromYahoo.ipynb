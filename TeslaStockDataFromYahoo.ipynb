{
 "cells": [
  {
   "cell_type": "code",
   "execution_count": 5,
   "id": "b375d9aa-cfe7-4af6-932b-6935ef7b8aaf",
   "metadata": {},
   "outputs": [],
   "source": [
    "import yfinance as yf "
   ]
  },
  {
   "cell_type": "code",
   "execution_count": null,
   "id": "5557df2e-a5b2-4cba-94b6-ba91000fd878",
   "metadata": {},
   "outputs": [],
   "source": [
    "# Create a ticker object for Tesla"
   ]
  },
  {
   "cell_type": "code",
   "execution_count": 6,
   "id": "b5317552-8e09-40c1-a477-189525456bd3",
   "metadata": {},
   "outputs": [],
   "source": [
    "Tesla = yf.Ticker(\"TSLA\")"
   ]
  },
  {
   "cell_type": "code",
   "execution_count": null,
   "id": "76082a3d-c883-4911-81b6-89f6d8b00c4b",
   "metadata": {},
   "outputs": [],
   "source": [
    "# Extrxt stock information and save it a dataframe named tesla_data"
   ]
  },
  {
   "cell_type": "code",
   "execution_count": 7,
   "id": "bd7434f1-4a11-4cf5-bd90-324c35f80faf",
   "metadata": {},
   "outputs": [],
   "source": [
    "tesla_data = Tesla.history(period=\"max\")"
   ]
  },
  {
   "cell_type": "code",
   "execution_count": null,
   "id": "537bb0a9-80e4-4439-a376-1865dcaed0ff",
   "metadata": {},
   "outputs": [],
   "source": [
    "# Let now Reset Index and Display First five Rows"
   ]
  },
  {
   "cell_type": "code",
   "execution_count": 8,
   "id": "5492f2e6-64c7-404c-bae9-328c450a333a",
   "metadata": {},
   "outputs": [
    {
     "data": {
      "text/html": [
       "<div>\n",
       "<style scoped>\n",
       "    .dataframe tbody tr th:only-of-type {\n",
       "        vertical-align: middle;\n",
       "    }\n",
       "\n",
       "    .dataframe tbody tr th {\n",
       "        vertical-align: top;\n",
       "    }\n",
       "\n",
       "    .dataframe thead th {\n",
       "        text-align: right;\n",
       "    }\n",
       "</style>\n",
       "<table border=\"1\" class=\"dataframe\">\n",
       "  <thead>\n",
       "    <tr style=\"text-align: right;\">\n",
       "      <th></th>\n",
       "      <th>Date</th>\n",
       "      <th>Open</th>\n",
       "      <th>High</th>\n",
       "      <th>Low</th>\n",
       "      <th>Close</th>\n",
       "      <th>Volume</th>\n",
       "      <th>Dividends</th>\n",
       "      <th>Stock Splits</th>\n",
       "    </tr>\n",
       "  </thead>\n",
       "  <tbody>\n",
       "    <tr>\n",
       "      <th>0</th>\n",
       "      <td>2010-06-29 00:00:00-04:00</td>\n",
       "      <td>1.266667</td>\n",
       "      <td>1.666667</td>\n",
       "      <td>1.169333</td>\n",
       "      <td>1.592667</td>\n",
       "      <td>281494500</td>\n",
       "      <td>0.0</td>\n",
       "      <td>0.0</td>\n",
       "    </tr>\n",
       "    <tr>\n",
       "      <th>1</th>\n",
       "      <td>2010-06-30 00:00:00-04:00</td>\n",
       "      <td>1.719333</td>\n",
       "      <td>2.028000</td>\n",
       "      <td>1.553333</td>\n",
       "      <td>1.588667</td>\n",
       "      <td>257806500</td>\n",
       "      <td>0.0</td>\n",
       "      <td>0.0</td>\n",
       "    </tr>\n",
       "    <tr>\n",
       "      <th>2</th>\n",
       "      <td>2010-07-01 00:00:00-04:00</td>\n",
       "      <td>1.666667</td>\n",
       "      <td>1.728000</td>\n",
       "      <td>1.351333</td>\n",
       "      <td>1.464000</td>\n",
       "      <td>123282000</td>\n",
       "      <td>0.0</td>\n",
       "      <td>0.0</td>\n",
       "    </tr>\n",
       "    <tr>\n",
       "      <th>3</th>\n",
       "      <td>2010-07-02 00:00:00-04:00</td>\n",
       "      <td>1.533333</td>\n",
       "      <td>1.540000</td>\n",
       "      <td>1.247333</td>\n",
       "      <td>1.280000</td>\n",
       "      <td>77097000</td>\n",
       "      <td>0.0</td>\n",
       "      <td>0.0</td>\n",
       "    </tr>\n",
       "    <tr>\n",
       "      <th>4</th>\n",
       "      <td>2010-07-06 00:00:00-04:00</td>\n",
       "      <td>1.333333</td>\n",
       "      <td>1.333333</td>\n",
       "      <td>1.055333</td>\n",
       "      <td>1.074000</td>\n",
       "      <td>103003500</td>\n",
       "      <td>0.0</td>\n",
       "      <td>0.0</td>\n",
       "    </tr>\n",
       "  </tbody>\n",
       "</table>\n",
       "</div>"
      ],
      "text/plain": [
       "                       Date      Open      High       Low     Close  \\\n",
       "0 2010-06-29 00:00:00-04:00  1.266667  1.666667  1.169333  1.592667   \n",
       "1 2010-06-30 00:00:00-04:00  1.719333  2.028000  1.553333  1.588667   \n",
       "2 2010-07-01 00:00:00-04:00  1.666667  1.728000  1.351333  1.464000   \n",
       "3 2010-07-02 00:00:00-04:00  1.533333  1.540000  1.247333  1.280000   \n",
       "4 2010-07-06 00:00:00-04:00  1.333333  1.333333  1.055333  1.074000   \n",
       "\n",
       "      Volume  Dividends  Stock Splits  \n",
       "0  281494500        0.0           0.0  \n",
       "1  257806500        0.0           0.0  \n",
       "2  123282000        0.0           0.0  \n",
       "3   77097000        0.0           0.0  \n",
       "4  103003500        0.0           0.0  "
      ]
     },
     "execution_count": 8,
     "metadata": {},
     "output_type": "execute_result"
    }
   ],
   "source": [
    "df = tesla_data\n",
    "df.reset_index(inplace=True)\n",
    "df.head()"
   ]
  },
  {
   "cell_type": "code",
   "execution_count": 38,
   "id": "90a2a341-a642-4923-93c3-cb96262b8e23",
   "metadata": {},
   "outputs": [],
   "source": [
    "## Question 2\n",
    "# I will extract Tesla's quartely revenue data first"
   ]
  },
  {
   "cell_type": "code",
   "execution_count": 39,
   "id": "e33051d3-f764-4306-801f-ed7036e2e037",
   "metadata": {},
   "outputs": [],
   "source": [
    "import requests\n",
    "import pandas as pd\n",
    "from bs4 import BeautifulSoup"
   ]
  },
  {
   "cell_type": "code",
   "execution_count": 40,
   "id": "2c494202-f04c-460e-994b-cbd71c9a241a",
   "metadata": {},
   "outputs": [],
   "source": [
    "# Define the URL for Tesla's revenue data"
   ]
  },
  {
   "cell_type": "code",
   "execution_count": 41,
   "id": "a8798a14-e297-456d-a74a-80c5c1ebd3fd",
   "metadata": {},
   "outputs": [],
   "source": [
    "url = \"https://www.macrotrends.net/stocks/charts/TSLA/tesla/revenue\""
   ]
  },
  {
   "cell_type": "code",
   "execution_count": 42,
   "id": "fcad988b-2353-4e13-b90c-a17aafbf62b3",
   "metadata": {},
   "outputs": [],
   "source": [
    "response = requests.get(url)\n",
    "html_data = response.content"
   ]
  },
  {
   "cell_type": "code",
   "execution_count": 43,
   "id": "749503ec-aa9c-4daa-a205-8b22d0ef62a3",
   "metadata": {},
   "outputs": [],
   "source": [
    "# Parse the HTML daa using BeautifulSoup"
   ]
  },
  {
   "cell_type": "code",
   "execution_count": 44,
   "id": "b21582e8-f835-4e94-b1a6-c8ea046f2cf3",
   "metadata": {},
   "outputs": [],
   "source": [
    "soup = BeautifulSoup(html_data, 'html.parser')\n",
    "soup.find('html_data')  "
   ]
  },
  {
   "cell_type": "code",
   "execution_count": 56,
   "id": "a456be5a-9b52-4e2a-8d1c-d42690cfd23c",
   "metadata": {},
   "outputs": [],
   "source": [
    "# Find all tables containing Tesla's quarterly revenue"
   ]
  },
  {
   "cell_type": "code",
   "execution_count": 57,
   "id": "d3713a37-b8b7-4273-a3df-709e822d900d",
   "metadata": {},
   "outputs": [],
   "source": [
    "tesla_tables = soup.find_all(\"table\")"
   ]
  },
  {
   "cell_type": "code",
   "execution_count": 58,
   "id": "0ea3be7b-06e8-4746-a1f0-70d38f82bf7a",
   "metadata": {},
   "outputs": [],
   "source": [
    "# Check if any tables were found # Assuming tesla_table_index is valid # Assuming you want to extract data from the first table in the list\n"
   ]
  },
  {
   "cell_type": "code",
   "execution_count": 59,
   "id": "1cc5b4e5-8eac-4e2d-8fe1-aae3832a7984",
   "metadata": {},
   "outputs": [
    {
     "name": "stdout",
     "output_type": "stream",
     "text": [
      "No tables found on the webpage.\n"
     ]
    }
   ],
   "source": [
    "if len(tesla_tables) == 0:\n",
    "    print(\"No tables found on the webpage.\")\n",
    "else:\n",
    "    tesla_table_index = 0 "
   ]
  },
  {
   "cell_type": "code",
   "execution_count": 60,
   "id": "e04b1305-ee3e-43bf-a80d-882deae2fb89",
   "metadata": {},
   "outputs": [],
   "source": [
    "# Ensure that the tesla_table_index is within the range of tesla_tables"
   ]
  },
  {
   "cell_type": "code",
   "execution_count": 86,
   "id": "00783bca-b24a-4961-9dd5-d9d628ba6f81",
   "metadata": {},
   "outputs": [],
   "source": [
    "if tesla_table_index == len(tesla_tables):\n",
    "    tesla_table = tesla_tables[tesla_table_index]\n",
    "    print(\"Invalid tesla_table_index. Index out of range.\")"
   ]
  },
  {
   "cell_type": "code",
   "execution_count": 87,
   "id": "7fb788e0-7db8-4073-91e4-6ad9abb05f1b",
   "metadata": {},
   "outputs": [],
   "source": [
    "# Create an empty DataFrame to store the revenue data"
   ]
  },
  {
   "cell_type": "code",
   "execution_count": 88,
   "id": "04992943-3a8b-4ac7-9904-f4224c906e95",
   "metadata": {},
   "outputs": [],
   "source": [
    "dates = []\n",
    "revenues = []\n",
    "tesla_revenue = pd.DataFrame(columns=[\"Date\", \"Revenue\"])"
   ]
  },
  {
   "cell_type": "code",
   "execution_count": 89,
   "id": "3814c120-5915-4f3b-9d0e-600b9418ef0d",
   "metadata": {},
   "outputs": [],
   "source": [
    "# Extract data from the table rows"
   ]
  },
  {
   "cell_type": "code",
   "execution_count": 90,
   "id": "95ed9ddc-7207-413d-a6fe-c648c09ed6e9",
   "metadata": {},
   "outputs": [
    {
     "ename": "NameError",
     "evalue": "name 'tesla_table' is not defined",
     "output_type": "error",
     "traceback": [
      "\u001b[1;31m---------------------------------------------------------------------------\u001b[0m",
      "\u001b[1;31mNameError\u001b[0m                                 Traceback (most recent call last)",
      "Cell \u001b[1;32mIn[90], line 1\u001b[0m\n\u001b[1;32m----> 1\u001b[0m \u001b[38;5;28;01mfor\u001b[39;00m row \u001b[38;5;129;01min\u001b[39;00m tesla_table\u001b[38;5;241m.\u001b[39mtbody\u001b[38;5;241m.\u001b[39mfind_all(\u001b[38;5;124m\"\u001b[39m\u001b[38;5;124mtr\u001b[39m\u001b[38;5;124m\"\u001b[39m):\n\u001b[0;32m      2\u001b[0m             col \u001b[38;5;241m=\u001b[39m row\u001b[38;5;241m.\u001b[39mfind_all(\u001b[38;5;124m\"\u001b[39m\u001b[38;5;124mtd\u001b[39m\u001b[38;5;124m\"\u001b[39m)\n\u001b[0;32m      3\u001b[0m             dates\u001b[38;5;241m.\u001b[39mappend(col[\u001b[38;5;241m0\u001b[39m]\u001b[38;5;241m.\u001b[39mtext)\n",
      "\u001b[1;31mNameError\u001b[0m: name 'tesla_table' is not defined"
     ]
    }
   ],
   "source": [
    "for row in tesla_table.tbody.find_all(\"tr\"):\n",
    "            col = row.find_all(\"td\")\n",
    "            dates.append(col[0].text)\n",
    "            revenues.append(col[1].text)"
   ]
  },
  {
   "cell_type": "code",
   "execution_count": 91,
   "id": "08374fa9-4544-4769-a89f-dc6b7656e277",
   "metadata": {},
   "outputs": [],
   "source": [
    "# Clean up the revenue column (remove commas and dollar signs)"
   ]
  },
  {
   "cell_type": "code",
   "execution_count": 92,
   "id": "21efd4bf-4628-4d79-bcd9-e9ce8e79b5f7",
   "metadata": {},
   "outputs": [],
   "source": [
    "tesla_revenue[\"Revenue\"] = tesla_revenue[\"Revenue\"].str.replace(',|\\\\$', \"\")"
   ]
  },
  {
   "cell_type": "code",
   "execution_count": 93,
   "id": "07a52809-dc03-456f-80a2-19c0430e3f00",
   "metadata": {},
   "outputs": [],
   "source": [
    "# Drop any rows with missing or empty revenue values"
   ]
  },
  {
   "cell_type": "code",
   "execution_count": 94,
   "id": "8904d2b8-f4ec-4ebb-a65d-2649c927991a",
   "metadata": {},
   "outputs": [],
   "source": [
    "tesla_revenue.dropna(inplace=True)\n",
    "tesla_revenue = tesla_revenue[tesla_revenue[\"Revenue\"] != \"\"]"
   ]
  },
  {
   "cell_type": "code",
   "execution_count": 95,
   "id": "14722fa1-4697-457c-a641-02b27715afc6",
   "metadata": {},
   "outputs": [],
   "source": [
    "# Display the last five rows of the DataFrame"
   ]
  },
  {
   "cell_type": "code",
   "execution_count": 96,
   "id": "dbfd9d17-6b7c-4527-aeee-24e9503df14c",
   "metadata": {},
   "outputs": [
    {
     "data": {
      "text/html": [
       "<div>\n",
       "<style scoped>\n",
       "    .dataframe tbody tr th:only-of-type {\n",
       "        vertical-align: middle;\n",
       "    }\n",
       "\n",
       "    .dataframe tbody tr th {\n",
       "        vertical-align: top;\n",
       "    }\n",
       "\n",
       "    .dataframe thead th {\n",
       "        text-align: right;\n",
       "    }\n",
       "</style>\n",
       "<table border=\"1\" class=\"dataframe\">\n",
       "  <thead>\n",
       "    <tr style=\"text-align: right;\">\n",
       "      <th></th>\n",
       "      <th>Date</th>\n",
       "      <th>Revenue</th>\n",
       "    </tr>\n",
       "  </thead>\n",
       "  <tbody>\n",
       "  </tbody>\n",
       "</table>\n",
       "</div>"
      ],
      "text/plain": [
       "Empty DataFrame\n",
       "Columns: [Date, Revenue]\n",
       "Index: []"
      ]
     },
     "execution_count": 96,
     "metadata": {},
     "output_type": "execute_result"
    }
   ],
   "source": [
    "tesla_revenue.tail()"
   ]
  },
  {
   "cell_type": "code",
   "execution_count": null,
   "id": "85381422-1e62-458f-be27-c85d06a8f46f",
   "metadata": {},
   "outputs": [],
   "source": []
  },
  {
   "cell_type": "code",
   "execution_count": null,
   "id": "25df6cdb-ff6e-4e81-9fcb-f4fb0f58d3d6",
   "metadata": {},
   "outputs": [],
   "source": []
  }
 ],
 "metadata": {
  "kernelspec": {
   "display_name": "Python 3 (ipykernel)",
   "language": "python",
   "name": "python3"
  },
  "language_info": {
   "codemirror_mode": {
    "name": "ipython",
    "version": 3
   },
   "file_extension": ".py",
   "mimetype": "text/x-python",
   "name": "python",
   "nbconvert_exporter": "python",
   "pygments_lexer": "ipython3",
   "version": "3.11.8"
  }
 },
 "nbformat": 4,
 "nbformat_minor": 5
}
